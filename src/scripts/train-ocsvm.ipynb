{
 "cells": [
  {
   "cell_type": "code",
   "execution_count": 1,
   "metadata": {},
   "outputs": [],
   "source": [
    "%reload_ext autoreload\n",
    "%autoreload 2\n",
    "%matplotlib inline\n",
    "\n",
    "import os\n",
    "import sys\n",
    "sys.path.insert(0, os.path.abspath('../../.'))\n",
    "import time\n",
    "\n",
    "import torch\n",
    "import torch.nn as nn\n",
    "\n",
    "import numpy as np\n",
    "# from sklearn import svm\n",
    "from thundersvm import *\n",
    "from tqdm import tqdm\n",
    "\n",
    "from src.model.SparseNet import SparseNet\n",
    "from torch.utils.data import DataLoader\n",
    "from torch.utils.tensorboard import SummaryWriter\n",
    "from src.model.FolderDataset import FolderPatchDataset\n",
    "from src.utils.cmd_line import parse_args\n",
    "from src.scripts.plotting import plot_rf"
   ]
  },
  {
   "cell_type": "markdown",
   "metadata": {},
   "source": [
    "## 1. sparse coding inference"
   ]
  },
  {
   "cell_type": "code",
   "execution_count": 2,
   "metadata": {},
   "outputs": [],
   "source": [
    "device_name = 'cuda:0'\n",
    "\n",
    "root_path = '/home/xd/data/defect_detection/data/focusight1_round1_train_part1'\n",
    "ok_subpath = 'OK_Images'\n",
    "ok_path = os.path.join(root_path, ok_subpath)\n",
    "\n",
    "model_path = './trained_models'\n",
    "train_name = 'sparse-net'\n",
    "train_id = 'p1-04'\n",
    "checkpoint_epoch = 10\n",
    "checkpoint_path = os.path.join(\n",
    "    model_path,\n",
    "    '{}_{}'.format(train_name, train_id),\n",
    "    'ckpt_{}.pth'.format(checkpoint_epoch)\n",
    ")\n",
    "# a temp solution\n",
    "checkpoint_path = '../../trained_models/ckpt-990.pth'\n",
    "\n",
    "N = 2000\n",
    "patch_size = 10\n",
    "n_neuron = 400\n",
    "r_learning_rate = 1e-2\n",
    "reg = 5e-3\n",
    "\n",
    "NU = 0.2\n",
    "KERNEL = 'rbf'\n",
    "GAMMA = 0.1"
   ]
  },
  {
   "cell_type": "code",
   "execution_count": 3,
   "metadata": {},
   "outputs": [
    {
     "name": "stdout",
     "output_type": "stream",
     "text": [
      "100%|██████████| 1000/1000 [00:00<00:00, 1146.39it/s]\n"
     ]
    }
   ],
   "source": [
    "dataset = FolderPatchDataset(\n",
    "    patch_size, patch_size,\n",
    "    N=N,\n",
    "    folder=ok_path,\n",
    "    training=True\n",
    ")\n",
    "dataloader = DataLoader(\n",
    "    dataset,\n",
    "    shuffle=False,\n",
    "    batch_size=dataset.N,\n",
    "    num_workers=8\n",
    ")"
   ]
  },
  {
   "cell_type": "code",
   "execution_count": 4,
   "metadata": {},
   "outputs": [
    {
     "name": "stderr",
     "output_type": "stream",
     "text": [
      "/home/xd/anaconda3/envs/cc/lib/python3.7/site-packages/torch/serialization.py:593: SourceChangeWarning: source code of class 'src.model.SparseNet.SparseNet' has changed. you can retrieve the original source code by accessing the object's source attribute or set `torch.nn.Module.dump_patches = True` and use the patch tool to revert the changes.\n",
      "  warnings.warn(msg, SourceChangeWarning)\n"
     ]
    },
    {
     "data": {
      "text/plain": [
       "SparseNet(\n",
       "  (U): Linear(in_features=400, out_features=100, bias=False)\n",
       ")"
      ]
     },
     "execution_count": 4,
     "metadata": {},
     "output_type": "execute_result"
    }
   ],
   "source": [
    "device = torch.device(device_name)\n",
    "\n",
    "model = SparseNet(\n",
    "    n_neuron,\n",
    "    patch_size,\n",
    "    R_lr=r_learning_rate,\n",
    "    lmda=reg,\n",
    "    device=device\n",
    ")\n",
    "\n",
    "model = torch.load(checkpoint_path, map_location='cpu')\n",
    "model.to(device)"
   ]
  },
  {
   "cell_type": "code",
   "execution_count": 5,
   "metadata": {},
   "outputs": [
    {
     "name": "stdout",
     "output_type": "stream",
     "text": [
      "100%|██████████| 1000/1000 [02:23<00:00,  6.98it/s]\n"
     ]
    }
   ],
   "source": [
    "model.eval()\n",
    "\n",
    "# preds = []\n",
    "resps = []\n",
    "\n",
    "for img_batch in tqdm(dataloader, total=len(dataloader), file=sys.stdout):\n",
    "    img_batch = img_batch.reshape(img_batch.shape[0], -1).to(device)\n",
    "    \n",
    "    pred = model(img_batch)\n",
    "    # preds.append(pred.cpu().detach())\n",
    "    \n",
    "    resps.append(model.R.cpu().detach())"
   ]
  },
  {
   "cell_type": "code",
   "execution_count": 6,
   "metadata": {},
   "outputs": [
    {
     "name": "stdout",
     "output_type": "stream",
     "text": [
      "(144000, 400)\n"
     ]
    }
   ],
   "source": [
    "np_resps = [resp.numpy() for resp in resps]\n",
    "np_resps = np.concatenate(np_resps)\n",
    "\n",
    "print(np_resps.shape)"
   ]
  },
  {
   "cell_type": "markdown",
   "metadata": {},
   "source": [
    "## 2. train ocsvm"
   ]
  },
  {
   "cell_type": "code",
   "execution_count": 7,
   "metadata": {},
   "outputs": [
    {
     "name": "stdout",
     "output_type": "stream",
     "text": [
      "fit duration: 22.511326551437378s\n"
     ]
    }
   ],
   "source": [
    "# clf = svm.OneClassSVM(nu=0.1, kernel=\"rbf\", gamma=0.1)\n",
    "clf = OneClassSVM(nu=NU, kernel=KERNEL, gamma=GAMMA, verbose=True)\n",
    "\n",
    "start_ts = time.time()\n",
    "clf.fit(np_resps)\n",
    "end_ts = time.time()\n",
    "\n",
    "print('fit duration: {}s'.format(end_ts-start_ts))"
   ]
  },
  {
   "cell_type": "code",
   "execution_count": 8,
   "metadata": {},
   "outputs": [],
   "source": [
    "clf.save_to_file('../../svdd.ckpt')"
   ]
  },
  {
   "cell_type": "code",
   "execution_count": null,
   "metadata": {},
   "outputs": [],
   "source": []
  }
 ],
 "metadata": {
  "kernelspec": {
   "display_name": "cc",
   "language": "python",
   "name": "pytorch"
  },
  "language_info": {
   "codemirror_mode": {
    "name": "ipython",
    "version": 3
   },
   "file_extension": ".py",
   "mimetype": "text/x-python",
   "name": "python",
   "nbconvert_exporter": "python",
   "pygments_lexer": "ipython3",
   "version": "3.7.6"
  }
 },
 "nbformat": 4,
 "nbformat_minor": 4
}
