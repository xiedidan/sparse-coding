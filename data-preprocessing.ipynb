{
 "cells": [
  {
   "cell_type": "code",
   "execution_count": 4,
   "metadata": {},
   "outputs": [],
   "source": [
    "import os\n",
    "import shutil"
   ]
  },
  {
   "cell_type": "code",
   "execution_count": 5,
   "metadata": {},
   "outputs": [],
   "source": [
    "root_path = '/home/xd/data/defect_detection'\n",
    "\n",
    "src_ok_image_paths = ['data/focusight1_round1_train_part1', 'data/focusight1_round1_train_part2']\n",
    "dest_ok_image_path = 'ok_images'\n"
   ]
  },
  {
   "cell_type": "code",
   "execution_count": 10,
   "metadata": {},
   "outputs": [],
   "source": [
    "for i, src_path in enumerate(src_ok_image_paths):\n",
    "    filenames = os.listdir(os.path.join(root_path, src_path, 'OK_Images'))\n",
    "    \n",
    "    src_files = [os.path.join(root_path, src_path, 'OK_Images', filename) for filename in filenames]\n",
    "    dest_files = [os.path.join(root_path, dest_ok_image_path, 'Part_{}_{}'.format(i+1, filename)) for filename in filenames]\n",
    "    \n",
    "    [shutil.copyfile(src_file, dest_file) for src_file, dest_file in zip(src_files, dest_files)]"
   ]
  },
  {
   "cell_type": "code",
   "execution_count": null,
   "metadata": {},
   "outputs": [],
   "source": []
  }
 ],
 "metadata": {
  "kernelspec": {
   "display_name": "cc",
   "language": "python",
   "name": "pytorch"
  },
  "language_info": {
   "codemirror_mode": {
    "name": "ipython",
    "version": 3
   },
   "file_extension": ".py",
   "mimetype": "text/x-python",
   "name": "python",
   "nbconvert_exporter": "python",
   "pygments_lexer": "ipython3",
   "version": "3.7.6"
  }
 },
 "nbformat": 4,
 "nbformat_minor": 4
}
